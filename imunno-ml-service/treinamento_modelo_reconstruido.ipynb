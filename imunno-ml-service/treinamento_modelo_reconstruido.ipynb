{
 "cells": [
  {
   "cell_type": "markdown",
   "id": "a82ca5e9",
   "metadata": {},
   "source": [
    "# Treinamento do Modelo de Detecção de Ameaças com Isolation Forest"
   ]
  },
  {
   "cell_type": "code",
   "execution_count": 1,
   "id": "a03f2660-f616-48ca-b985-2234f54f9989",
   "metadata": {},
   "outputs": [
    {
     "name": "stdout",
     "output_type": "stream",
     "text": [
      "Requirement already satisfied: pandas in /opt/conda/lib/python3.11/site-packages (2.1.1)\n",
      "Requirement already satisfied: joblib in /opt/conda/lib/python3.11/site-packages (1.3.2)\n",
      "Requirement already satisfied: scikit-learn in /opt/conda/lib/python3.11/site-packages (1.3.1)\n",
      "Requirement already satisfied: numpy>=1.23.2 in /opt/conda/lib/python3.11/site-packages (from pandas) (1.24.4)\n",
      "Requirement already satisfied: python-dateutil>=2.8.2 in /opt/conda/lib/python3.11/site-packages (from pandas) (2.8.2)\n",
      "Requirement already satisfied: pytz>=2020.1 in /opt/conda/lib/python3.11/site-packages (from pandas) (2023.3.post1)\n",
      "Requirement already satisfied: tzdata>=2022.1 in /opt/conda/lib/python3.11/site-packages (from pandas) (2023.3)\n",
      "Requirement already satisfied: scipy>=1.5.0 in /opt/conda/lib/python3.11/site-packages (from scikit-learn) (1.11.3)\n",
      "Requirement already satisfied: threadpoolctl>=2.0.0 in /opt/conda/lib/python3.11/site-packages (from scikit-learn) (3.2.0)\n",
      "Requirement already satisfied: six>=1.5 in /opt/conda/lib/python3.11/site-packages (from python-dateutil>=2.8.2->pandas) (1.16.0)\n"
     ]
    }
   ],
   "source": [
    "!pip install pandas joblib scikit-learn"
   ]
  },
  {
   "cell_type": "code",
   "execution_count": 2,
   "id": "ad1cf447",
   "metadata": {},
   "outputs": [],
   "source": [
    "import pandas as pd\n",
    "import joblib\n",
    "from sklearn.ensemble import IsolationForest\n",
    "from sklearn.model_selection import train_test_split\n",
    "from sklearn.metrics import classification_report, confusion_matrix\n",
    "import matplotlib.pyplot as plt\n",
    "import seaborn as sns\n"
   ]
  },
  {
   "cell_type": "markdown",
   "id": "fa59d61d",
   "metadata": {},
   "source": [
    "## 1. Carregamento dos Dados"
   ]
  },
  {
   "cell_type": "code",
   "execution_count": 3,
   "id": "170c65e1",
   "metadata": {},
   "outputs": [
    {
     "data": {
      "text/html": [
       "<div>\n",
       "<style scoped>\n",
       "    .dataframe tbody tr th:only-of-type {\n",
       "        vertical-align: middle;\n",
       "    }\n",
       "\n",
       "    .dataframe tbody tr th {\n",
       "        vertical-align: top;\n",
       "    }\n",
       "\n",
       "    .dataframe thead th {\n",
       "        text-align: right;\n",
       "    }\n",
       "</style>\n",
       "<table border=\"1\" class=\"dataframe\">\n",
       "  <thead>\n",
       "    <tr style=\"text-align: right;\">\n",
       "      <th></th>\n",
       "      <th>id</th>\n",
       "      <th>agent_id</th>\n",
       "      <th>hostname</th>\n",
       "      <th>file_path</th>\n",
       "      <th>file_hash_sha256</th>\n",
       "      <th>file_content</th>\n",
       "      <th>threat_score</th>\n",
       "      <th>analysis_findings</th>\n",
       "      <th>is_whitelisted</th>\n",
       "      <th>quarantined_path</th>\n",
       "      <th>timestamp</th>\n",
       "    </tr>\n",
       "  </thead>\n",
       "  <tbody>\n",
       "    <tr>\n",
       "      <th>0</th>\n",
       "      <td>1</td>\n",
       "      <td>sim-agent-001</td>\n",
       "      <td>sim-host</td>\n",
       "      <td>/tmp/simulacao_84817.js</td>\n",
       "      <td>36a77438445600f20e0f5b4dec8e6b172abfc90bc8e955...</td>\n",
       "      <td>eval(atob('YWxlcnQoJ2hlbGxvJyk='));</td>\n",
       "      <td>50</td>\n",
       "      <td>[\"Função perigosa 'eval' detectada\"]</td>\n",
       "      <td>f</td>\n",
       "      <td>NaN</td>\n",
       "      <td>2025-07-21 08:26:09.156203+00</td>\n",
       "    </tr>\n",
       "    <tr>\n",
       "      <th>1</th>\n",
       "      <td>2</td>\n",
       "      <td>sim-agent-001</td>\n",
       "      <td>sim-host</td>\n",
       "      <td>/tmp/simulacao_81691.txt</td>\n",
       "      <td>bcf9d6c936c6072c40e698b117b32f43b0b77049baa013...</td>\n",
       "      <td>normal text file</td>\n",
       "      <td>0</td>\n",
       "      <td>[\"\"]</td>\n",
       "      <td>f</td>\n",
       "      <td>NaN</td>\n",
       "      <td>2025-07-21 08:26:09.365403+00</td>\n",
       "    </tr>\n",
       "    <tr>\n",
       "      <th>2</th>\n",
       "      <td>3</td>\n",
       "      <td>sim-agent-001</td>\n",
       "      <td>sim-host</td>\n",
       "      <td>/tmp/simulacao_70166.js</td>\n",
       "      <td>36a77438445600f20e0f5b4dec8e6b172abfc90bc8e955...</td>\n",
       "      <td>eval(atob('YWxlcnQoJ2hlbGxvJyk='));</td>\n",
       "      <td>50</td>\n",
       "      <td>[\"Função perigosa 'eval' detectada\"]</td>\n",
       "      <td>f</td>\n",
       "      <td>NaN</td>\n",
       "      <td>2025-07-21 08:26:09.386942+00</td>\n",
       "    </tr>\n",
       "    <tr>\n",
       "      <th>3</th>\n",
       "      <td>4</td>\n",
       "      <td>sim-agent-001</td>\n",
       "      <td>sim-host</td>\n",
       "      <td>/tmp/simulacao_11614.js</td>\n",
       "      <td>36a77438445600f20e0f5b4dec8e6b172abfc90bc8e955...</td>\n",
       "      <td>eval(atob('YWxlcnQoJ2hlbGxvJyk='));</td>\n",
       "      <td>50</td>\n",
       "      <td>[\"Função perigosa 'eval' detectada\"]</td>\n",
       "      <td>f</td>\n",
       "      <td>NaN</td>\n",
       "      <td>2025-07-21 08:26:09.417219+00</td>\n",
       "    </tr>\n",
       "    <tr>\n",
       "      <th>4</th>\n",
       "      <td>5</td>\n",
       "      <td>sim-agent-001</td>\n",
       "      <td>sim-host</td>\n",
       "      <td>/tmp/simulacao_66281.js</td>\n",
       "      <td>36a77438445600f20e0f5b4dec8e6b172abfc90bc8e955...</td>\n",
       "      <td>eval(atob('YWxlcnQoJ2hlbGxvJyk='));</td>\n",
       "      <td>50</td>\n",
       "      <td>[\"Função perigosa 'eval' detectada\"]</td>\n",
       "      <td>f</td>\n",
       "      <td>NaN</td>\n",
       "      <td>2025-07-21 08:26:09.529725+00</td>\n",
       "    </tr>\n",
       "  </tbody>\n",
       "</table>\n",
       "</div>"
      ],
      "text/plain": [
       "   id       agent_id  hostname                 file_path  \\\n",
       "0   1  sim-agent-001  sim-host   /tmp/simulacao_84817.js   \n",
       "1   2  sim-agent-001  sim-host  /tmp/simulacao_81691.txt   \n",
       "2   3  sim-agent-001  sim-host   /tmp/simulacao_70166.js   \n",
       "3   4  sim-agent-001  sim-host   /tmp/simulacao_11614.js   \n",
       "4   5  sim-agent-001  sim-host   /tmp/simulacao_66281.js   \n",
       "\n",
       "                                    file_hash_sha256  \\\n",
       "0  36a77438445600f20e0f5b4dec8e6b172abfc90bc8e955...   \n",
       "1  bcf9d6c936c6072c40e698b117b32f43b0b77049baa013...   \n",
       "2  36a77438445600f20e0f5b4dec8e6b172abfc90bc8e955...   \n",
       "3  36a77438445600f20e0f5b4dec8e6b172abfc90bc8e955...   \n",
       "4  36a77438445600f20e0f5b4dec8e6b172abfc90bc8e955...   \n",
       "\n",
       "                          file_content  threat_score  \\\n",
       "0  eval(atob('YWxlcnQoJ2hlbGxvJyk='));            50   \n",
       "1                     normal text file             0   \n",
       "2  eval(atob('YWxlcnQoJ2hlbGxvJyk='));            50   \n",
       "3  eval(atob('YWxlcnQoJ2hlbGxvJyk='));            50   \n",
       "4  eval(atob('YWxlcnQoJ2hlbGxvJyk='));            50   \n",
       "\n",
       "                      analysis_findings is_whitelisted  quarantined_path  \\\n",
       "0  [\"Função perigosa 'eval' detectada\"]              f               NaN   \n",
       "1                                  [\"\"]              f               NaN   \n",
       "2  [\"Função perigosa 'eval' detectada\"]              f               NaN   \n",
       "3  [\"Função perigosa 'eval' detectada\"]              f               NaN   \n",
       "4  [\"Função perigosa 'eval' detectada\"]              f               NaN   \n",
       "\n",
       "                       timestamp  \n",
       "0  2025-07-21 08:26:09.156203+00  \n",
       "1  2025-07-21 08:26:09.365403+00  \n",
       "2  2025-07-21 08:26:09.386942+00  \n",
       "3  2025-07-21 08:26:09.417219+00  \n",
       "4  2025-07-21 08:26:09.529725+00  "
      ]
     },
     "execution_count": 3,
     "metadata": {},
     "output_type": "execute_result"
    }
   ],
   "source": [
    "# Exemplo de carregamento do CSV. Substitua pelo caminho correto se necessário.\n",
    "df = pd.read_csv(\"exported_data.csv\")  # Arquivo com dados anotados de eventos\n",
    "df.head()\n"
   ]
  },
  {
   "cell_type": "code",
   "execution_count": 4,
   "id": "c8d13355-795e-4c18-83ac-c6b5a09e59cd",
   "metadata": {},
   "outputs": [
    {
     "name": "stdout",
     "output_type": "stream",
     "text": [
      "DataFrame com as novas características:\n"
     ]
    },
    {
     "data": {
      "text/html": [
       "<div>\n",
       "<style scoped>\n",
       "    .dataframe tbody tr th:only-of-type {\n",
       "        vertical-align: middle;\n",
       "    }\n",
       "\n",
       "    .dataframe tbody tr th {\n",
       "        vertical-align: top;\n",
       "    }\n",
       "\n",
       "    .dataframe thead th {\n",
       "        text-align: right;\n",
       "    }\n",
       "</style>\n",
       "<table border=\"1\" class=\"dataframe\">\n",
       "  <thead>\n",
       "    <tr style=\"text-align: right;\">\n",
       "      <th></th>\n",
       "      <th>file_path</th>\n",
       "      <th>file_size</th>\n",
       "      <th>is_php</th>\n",
       "      <th>is_js</th>\n",
       "    </tr>\n",
       "  </thead>\n",
       "  <tbody>\n",
       "    <tr>\n",
       "      <th>0</th>\n",
       "      <td>/tmp/simulacao_84817.js</td>\n",
       "      <td>35</td>\n",
       "      <td>0</td>\n",
       "      <td>1</td>\n",
       "    </tr>\n",
       "    <tr>\n",
       "      <th>1</th>\n",
       "      <td>/tmp/simulacao_81691.txt</td>\n",
       "      <td>16</td>\n",
       "      <td>0</td>\n",
       "      <td>0</td>\n",
       "    </tr>\n",
       "    <tr>\n",
       "      <th>2</th>\n",
       "      <td>/tmp/simulacao_70166.js</td>\n",
       "      <td>35</td>\n",
       "      <td>0</td>\n",
       "      <td>1</td>\n",
       "    </tr>\n",
       "    <tr>\n",
       "      <th>3</th>\n",
       "      <td>/tmp/simulacao_11614.js</td>\n",
       "      <td>35</td>\n",
       "      <td>0</td>\n",
       "      <td>1</td>\n",
       "    </tr>\n",
       "    <tr>\n",
       "      <th>4</th>\n",
       "      <td>/tmp/simulacao_66281.js</td>\n",
       "      <td>35</td>\n",
       "      <td>0</td>\n",
       "      <td>1</td>\n",
       "    </tr>\n",
       "  </tbody>\n",
       "</table>\n",
       "</div>"
      ],
      "text/plain": [
       "                  file_path  file_size  is_php  is_js\n",
       "0   /tmp/simulacao_84817.js         35       0      1\n",
       "1  /tmp/simulacao_81691.txt         16       0      0\n",
       "2   /tmp/simulacao_70166.js         35       0      1\n",
       "3   /tmp/simulacao_11614.js         35       0      1\n",
       "4   /tmp/simulacao_66281.js         35       0      1"
      ]
     },
     "execution_count": 4,
     "metadata": {},
     "output_type": "execute_result"
    }
   ],
   "source": [
    "# Etapa de Engenharia de Características\n",
    "# Cria as colunas necessárias para o modelo a partir dos dados existentes.\n",
    "\n",
    "# 1. Cria a coluna 'file_size' a partir do comprimento do conteúdo do arquivo\n",
    "df['file_size'] = df['file_content'].astype(str).apply(len)\n",
    "\n",
    "# 2. Cria a coluna 'is_php' verificando se o caminho termina com .php\n",
    "df['is_php'] = df['file_path'].str.endswith('.php').astype(int)\n",
    "\n",
    "# 3. Cria a coluna 'is_js' verificando se o caminho termina com .js\n",
    "df['is_js'] = df['file_path'].str.endswith('.js').astype(int)\n",
    "\n",
    "# 4. (Opcional, mas bom para verificação) Mostra as primeiras linhas do dataframe com as novas colunas\n",
    "print(\"DataFrame com as novas características:\")\n",
    "df[['file_path', 'file_size', 'is_php', 'is_js']].head()"
   ]
  },
  {
   "cell_type": "markdown",
   "id": "c33b777a",
   "metadata": {},
   "source": [
    "## 2. Pré-processamento"
   ]
  },
  {
   "cell_type": "code",
   "execution_count": 5,
   "id": "9fea75db",
   "metadata": {},
   "outputs": [
    {
     "name": "stdout",
     "output_type": "stream",
     "text": [
      "id                     0\n",
      "agent_id               0\n",
      "hostname               0\n",
      "file_path              0\n",
      "file_hash_sha256       0\n",
      "file_content           0\n",
      "threat_score           0\n",
      "analysis_findings      0\n",
      "is_whitelisted         0\n",
      "quarantined_path     775\n",
      "timestamp              0\n",
      "file_size              0\n",
      "is_php                 0\n",
      "is_js                  0\n",
      "dtype: int64\n",
      "              id  threat_score  quarantined_path   file_size      is_php  \\\n",
      "count  775.00000    775.000000               0.0  775.000000  775.000000   \n",
      "mean   388.00000     39.445161               NaN   34.156129    0.304516   \n",
      "std    223.86752     29.047351               NaN   14.778734    0.460499   \n",
      "min      1.00000      0.000000               NaN   16.000000    0.000000   \n",
      "25%    194.50000      0.000000               NaN   16.000000    0.000000   \n",
      "50%    388.00000     50.000000               NaN   35.000000    0.000000   \n",
      "75%    581.50000     70.000000               NaN   53.000000    1.000000   \n",
      "max    775.00000     70.000000               NaN   53.000000    1.000000   \n",
      "\n",
      "            is_js  \n",
      "count  775.000000  \n",
      "mean     0.362581  \n",
      "std      0.481056  \n",
      "min      0.000000  \n",
      "25%      0.000000  \n",
      "50%      0.000000  \n",
      "75%      1.000000  \n",
      "max      1.000000  \n"
     ]
    },
    {
     "data": {
      "image/png": "[encoded data removed]",
      "text/plain": [
       "<Figure size 1000x1000 with 20 Axes>"
      ]
     },
     "metadata": {},
     "output_type": "display_data"
    }
   ],
   "source": [
    "# Verifica se há valores nulos\n",
    "print(df.isnull().sum())\n",
    "\n",
    "# Mostra estatísticas básicas\n",
    "print(df.describe())\n",
    "\n",
    "# Converte colunas booleanas se necessário\n",
    "if df['is_php'].dtype != 'int64':\n",
    "    df['is_php'] = df['is_php'].astype(int)\n",
    "if df['is_js'].dtype != 'int64':\n",
    "    df['is_js'] = df['is_js'].astype(int)\n",
    "\n",
    "# Visualização opcional\n",
    "sns.pairplot(df[['threat_score', 'file_size', 'is_php', 'is_js']])\n",
    "plt.show()\n"
   ]
  },
  {
   "cell_type": "markdown",
   "id": "d849d484",
   "metadata": {},
   "source": [
    "## 3. Treinamento com Isolation Forest"
   ]
  },
  {
   "cell_type": "code",
   "execution_count": 6,
   "id": "b6bfbaaf",
   "metadata": {},
   "outputs": [],
   "source": [
    "features = ['threat_score', 'file_size', 'is_php', 'is_js']\n",
    "X = df[features]\n",
    "\n",
    "# IsolationForest: -1 é anomalia, 1 é normal\n",
    "model = IsolationForest(n_estimators=100, contamination=0.1, random_state=42)\n",
    "model.fit(X)\n",
    "\n",
    "# Predição (rótulos -1 e 1)\n",
    "predictions = model.predict(X)\n",
    "df['predicted'] = predictions\n"
   ]
  },
  {
   "cell_type": "markdown",
   "id": "5f669478",
   "metadata": {},
   "source": [
    "## 4. Avaliação (Simples)"
   ]
  },
  {
   "cell_type": "code",
   "execution_count": 7,
   "id": "f019c9ba",
   "metadata": {},
   "outputs": [
    {
     "name": "stdout",
     "output_type": "stream",
     "text": [
      "Aviso: Coluna 'label' não encontrada. Apenas mostrando a distribuição de predições.\n",
      "predicted\n",
      "1    775\n",
      "Name: count, dtype: int64\n"
     ]
    }
   ],
   "source": [
    "# Supondo que você tenha rótulo real, chamado 'label'\n",
    "# 1 = normal, -1 = anomalia\n",
    "if 'label' in df.columns:\n",
    "    print(confusion_matrix(df['label'], df['predicted']))\n",
    "    print(classification_report(df['label'], df['predicted']))\n",
    "else:\n",
    "    print(\"Aviso: Coluna 'label' não encontrada. Apenas mostrando a distribuição de predições.\")\n",
    "    print(df['predicted'].value_counts())\n"
   ]
  },
  {
   "cell_type": "markdown",
   "id": "c65950f0",
   "metadata": {},
   "source": [
    "## 5. Salvamento do Modelo"
   ]
  },
  {
   "cell_type": "code",
   "execution_count": 8,
   "id": "e1142a2c",
   "metadata": {},
   "outputs": [
    {
     "name": "stdout",
     "output_type": "stream",
     "text": [
      "Modelo salvo como 'imunno_model.joblib'\n"
     ]
    }
   ],
   "source": [
    "joblib.dump(model, \"imunno_model.joblib\")\n",
    "print(\"Modelo salvo como 'imunno_model.joblib'\")\n"
   ]
  }
 ],
 "metadata": {
  "kernelspec": {
   "display_name": "Python 3 (ipykernel)",
   "language": "python",
   "name": "python3"
  },
  "language_info": {
   "codemirror_mode": {
    "name": "ipython",
    "version": 3
   },
   "file_extension": ".py",
   "mimetype": "text/x-python",
   "name": "python",
   "nbconvert_exporter": "python",
   "pygments_lexer": "ipython3",
   "version": "3.11.6"
  }
 },
 "nbformat": 4,
 "nbformat_minor": 5
}
