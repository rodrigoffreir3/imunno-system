{
 "cells": [
  {
   "cell_type": "markdown",
   "id": "a82ca5e9",
   "metadata": {},
   "source": [
    "# Treinamento do Modelo de Detecção de Ameaças com Isolation Forest"
   ]
  },
  {
   "cell_type": "markdown",
   "id": "e4319776",
   "metadata": {},
   "source": []
  },
  {
   "cell_type": "code",
   "execution_count": 1,
   "id": "ad1cf447",
   "metadata": {},
   "outputs": [
    {
     "ename": "ModuleNotFoundError",
     "evalue": "No module named 'pandas'",
     "output_type": "error",
     "traceback": [
      "\u001b[31m---------------------------------------------------------------------------\u001b[39m",
      "\u001b[31mModuleNotFoundError\u001b[39m                       Traceback (most recent call last)",
      "\u001b[36mCell\u001b[39m\u001b[36m \u001b[39m\u001b[32mIn[1]\u001b[39m\u001b[32m, line 1\u001b[39m\n\u001b[32m----> \u001b[39m\u001b[32m1\u001b[39m \u001b[38;5;28;01mimport\u001b[39;00m\u001b[38;5;250m \u001b[39m\u001b[34;01mpandas\u001b[39;00m\u001b[38;5;250m \u001b[39m\u001b[38;5;28;01mas\u001b[39;00m\u001b[38;5;250m \u001b[39m\u001b[34;01mpd\u001b[39;00m\n\u001b[32m      2\u001b[39m \u001b[38;5;28;01mimport\u001b[39;00m\u001b[38;5;250m \u001b[39m\u001b[34;01mjoblib\u001b[39;00m\n\u001b[32m      3\u001b[39m \u001b[38;5;28;01mfrom\u001b[39;00m\u001b[38;5;250m \u001b[39m\u001b[34;01msklearn\u001b[39;00m\u001b[34;01m.\u001b[39;00m\u001b[34;01mensemble\u001b[39;00m\u001b[38;5;250m \u001b[39m\u001b[38;5;28;01mimport\u001b[39;00m IsolationForest\n",
      "\u001b[31mModuleNotFoundError\u001b[39m: No module named 'pandas'"
     ]
    }
   ],
   "source": [
    "import pandas as pd\n",
    "import joblib\n",
    "from sklearn.ensemble import IsolationForest\n",
    "from sklearn.model_selection import train_test_split\n",
    "from sklearn.metrics import classification_report, confusion_matrix\n",
    "import matplotlib.pyplot as plt\n",
    "import seaborn as sns\n"
   ]
  },
  {
   "cell_type": "markdown",
   "id": "fa59d61d",
   "metadata": {},
   "source": [
    "## 1. Carregamento dos Dados"
   ]
  },
  {
   "cell_type": "code",
   "execution_count": null,
   "id": "170c65e1",
   "metadata": {},
   "outputs": [],
   "source": [
    "# Exemplo de carregamento do CSV. Substitua pelo caminho correto se necessário.\n",
    "df = pd.read_csv(\"dados_eventos.csv\")  # Arquivo com dados anotados de eventos\n",
    "df.head()\n"
   ]
  },
  {
   "cell_type": "markdown",
   "id": "c33b777a",
   "metadata": {},
   "source": [
    "## 2. Pré-processamento"
   ]
  },
  {
   "cell_type": "code",
   "execution_count": null,
   "id": "9fea75db",
   "metadata": {},
   "outputs": [],
   "source": [
    "# Verifica se há valores nulos\n",
    "print(df.isnull().sum())\n",
    "\n",
    "# Mostra estatísticas básicas\n",
    "print(df.describe())\n",
    "\n",
    "# Converte colunas booleanas se necessário\n",
    "if df['is_php'].dtype != 'int64':\n",
    "    df['is_php'] = df['is_php'].astype(int)\n",
    "if df['is_js'].dtype != 'int64':\n",
    "    df['is_js'] = df['is_js'].astype(int)\n",
    "\n",
    "# Visualização opcional\n",
    "sns.pairplot(df[['threat_score', 'file_size', 'is_php', 'is_js']])\n",
    "plt.show()\n"
   ]
  },
  {
   "cell_type": "markdown",
   "id": "d849d484",
   "metadata": {},
   "source": [
    "## 3. Treinamento com Isolation Forest"
   ]
  },
  {
   "cell_type": "code",
   "execution_count": null,
   "id": "b6bfbaaf",
   "metadata": {},
   "outputs": [],
   "source": [
    "features = ['threat_score', 'file_size', 'is_php', 'is_js']\n",
    "X = df[features]\n",
    "\n",
    "# IsolationForest: -1 é anomalia, 1 é normal\n",
    "model = IsolationForest(n_estimators=100, contamination=0.1, random_state=42)\n",
    "model.fit(X)\n",
    "\n",
    "# Predição (rótulos -1 e 1)\n",
    "predictions = model.predict(X)\n",
    "df['predicted'] = predictions\n"
   ]
  },
  {
   "cell_type": "markdown",
   "id": "5f669478",
   "metadata": {},
   "source": [
    "## 4. Avaliação (Simples)"
   ]
  },
  {
   "cell_type": "code",
   "execution_count": null,
   "id": "f019c9ba",
   "metadata": {},
   "outputs": [],
   "source": [
    "# Supondo que você tenha rótulo real, chamado 'label'\n",
    "# 1 = normal, -1 = anomalia\n",
    "if 'label' in df.columns:\n",
    "    print(confusion_matrix(df['label'], df['predicted']))\n",
    "    print(classification_report(df['label'], df['predicted']))\n",
    "else:\n",
    "    print(\"Aviso: Coluna 'label' não encontrada. Apenas mostrando a distribuição de predições.\")\n",
    "    print(df['predicted'].value_counts())\n"
   ]
  },
  {
   "cell_type": "markdown",
   "id": "c65950f0",
   "metadata": {},
   "source": [
    "## 5. Salvamento do Modelo"
   ]
  },
  {
   "cell_type": "code",
   "execution_count": null,
   "id": "e1142a2c",
   "metadata": {},
   "outputs": [],
   "source": [
    "joblib.dump(model, \"imunno_model.joblib\")\n",
    "print(\"Modelo salvo como 'imunno_model.joblib'\")\n"
   ]
  }
 ],
 "metadata": {
  "kernelspec": {
   "display_name": ".venv",
   "language": "python",
   "name": "python3"
  },
  "language_info": {
   "codemirror_mode": {
    "name": "ipython",
    "version": 3
   },
   "file_extension": ".py",
   "mimetype": "text/x-python",
   "name": "python",
   "nbconvert_exporter": "python",
   "pygments_lexer": "ipython3",
   "version": "3.13.5"
  }
 },
 "nbformat": 4,
 "nbformat_minor": 5
}
