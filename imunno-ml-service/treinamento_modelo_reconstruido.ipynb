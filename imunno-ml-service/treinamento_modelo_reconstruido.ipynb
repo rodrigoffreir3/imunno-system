{
 "cells": [
  {
   "cell_type": "markdown",
   "id": "a82ca5e9",
   "metadata": {},
   "source": [
    "# Treinamento do Modelo de Detecção de Ameaças com Isolation Forest"
   ]
  },
  {
   "cell_type": "code",
   "execution_count": null,
   "id": "ad1cf447",
   "metadata": {},
   "outputs": [],
   "source": [
    "import pandas as pd\n",
    "import joblib\n",
    "from sklearn.ensemble import IsolationForest\n",
    "from sklearn.model_selection import train_test_split\n",
    "from sklearn.metrics import classification_report, confusion_matrix\n",
    "import matplotlib.pyplot as plt\n",
    "import seaborn as sns\n"
   ]
  },
  {
   "cell_type": "markdown",
   "id": "fa59d61d",
   "metadata": {},
   "source": [
    "## 1. Carregamento dos Dados"
   ]
  },
  {
   "cell_type": "code",
   "execution_count": null,
   "id": "170c65e1",
   "metadata": {},
   "outputs": [],
   "source": [
    "# Exemplo de carregamento do CSV. Substitua pelo caminho correto se necessário.\n",
    "df = pd.read_csv(\"dados_eventos.csv\")  # Arquivo com dados anotados de eventos\n",
    "df.head()\n"
   ]
  },
  {
   "cell_type": "markdown",
   "id": "c33b777a",
   "metadata": {},
   "source": [
    "## 2. Pré-processamento"
   ]
  },
  {
   "cell_type": "code",
   "execution_count": null,
   "id": "9fea75db",
   "metadata": {},
   "outputs": [],
   "source": [
    "# Verifica se há valores nulos\n",
    "print(df.isnull().sum())\n",
    "\n",
    "# Mostra estatísticas básicas\n",
    "print(df.describe())\n",
    "\n",
    "# Converte colunas booleanas se necessário\n",
    "if df['is_php'].dtype != 'int64':\n",
    "    df['is_php'] = df['is_php'].astype(int)\n",
    "if df['is_js'].dtype != 'int64':\n",
    "    df['is_js'] = df['is_js'].astype(int)\n",
    "\n",
    "# Visualização opcional\n",
    "sns.pairplot(df[['threat_score', 'file_size', 'is_php', 'is_js']])\n",
    "plt.show()\n"
   ]
  },
  {
   "cell_type": "markdown",
   "id": "d849d484",
   "metadata": {},
   "source": [
    "## 3. Treinamento com Isolation Forest"
   ]
  },
  {
   "cell_type": "code",
   "execution_count": null,
   "id": "b6bfbaaf",
   "metadata": {},
   "outputs": [],
   "source": [
    "features = ['threat_score', 'file_size', 'is_php', 'is_js']\n",
    "X = df[features]\n",
    "\n",
    "# IsolationForest: -1 é anomalia, 1 é normal\n",
    "model = IsolationForest(n_estimators=100, contamination=0.1, random_state=42)\n",
    "model.fit(X)\n",
    "\n",
    "# Predição (rótulos -1 e 1)\n",
    "predictions = model.predict(X)\n",
    "df['predicted'] = predictions\n"
   ]
  },
  {
   "cell_type": "markdown",
   "id": "5f669478",
   "metadata": {},
   "source": [
    "## 4. Avaliação (Simples)"
   ]
  },
  {
   "cell_type": "code",
   "execution_count": null,
   "id": "f019c9ba",
   "metadata": {},
   "outputs": [],
   "source": [
    "# Supondo que você tenha rótulo real, chamado 'label'\n",
    "# 1 = normal, -1 = anomalia\n",
    "if 'label' in df.columns:\n",
    "    print(confusion_matrix(df['label'], df['predicted']))\n",
    "    print(classification_report(df['label'], df['predicted']))\n",
    "else:\n",
    "    print(\"Aviso: Coluna 'label' não encontrada. Apenas mostrando a distribuição de predições.\")\n",
    "    print(df['predicted'].value_counts())\n"
   ]
  },
  {
   "cell_type": "markdown",
   "id": "c65950f0",
   "metadata": {},
   "source": [
    "## 5. Salvamento do Modelo"
   ]
  },
  {
   "cell_type": "code",
   "execution_count": null,
   "id": "e1142a2c",
   "metadata": {},
   "outputs": [],
   "source": [
    "joblib.dump(model, \"imunno_model.joblib\")\n",
    "print(\"Modelo salvo como 'imunno_model.joblib'\")\n"
   ]
  }
 ],
 "metadata": {},
 "nbformat": 4,
 "nbformat_minor": 5
}
